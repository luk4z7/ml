{
 "cells": [
  {
   "cell_type": "code",
   "execution_count": 1,
   "metadata": {
    "collapsed": true
   },
   "outputs": [],
   "source": [
    "import os\n",
    "import shutil\n",
    "\n",
    "work_dir = ''\n",
    "image_names = sorted(os.listdir(os.path.join(work_dir, 'train')))\n",
    "\n",
    "\n",
    "def copy_files(prefix_str, range_start, range_end, target_dir):\n",
    "    image_paths = [os.path.join(work_dir, 'train', prefix_str + '.' + str(i) + '.jpg')\n",
    "                   for i in range(range_start, range_end)]\n",
    "    dest_dir = os.path.join(work_dir, 'data', target_dir, prefix_str)\n",
    "    os.makedirs(dest_dir)\n",
    "    for image_path in image_paths:\n",
    "        shutil.copy(image_path, dest_dir)\n",
    "\n",
    "\n",
    "copy_files('dog', 0, 1000, 'train')\n",
    "copy_files('cat', 0, 1000, 'train')\n",
    "copy_files('dog', 1000, 1400, 'test')\n",
    "copy_files('cat', 1000, 1400, 'test')"
   ]
  },
  {
   "cell_type": "code",
   "execution_count": null,
   "metadata": {
    "collapsed": true
   },
   "outputs": [],
   "source": []
  }
 ],
 "metadata": {
  "kernelspec": {
   "display_name": "Python 3",
   "language": "python",
   "name": "python3"
  },
  "language_info": {
   "codemirror_mode": {
    "name": "ipython",
    "version": 2
   },
   "file_extension": ".py",
   "mimetype": "text/x-python",
   "name": "python",
   "nbconvert_exporter": "python",
   "pygments_lexer": "ipython2",
   "version": "2.7.14"
  }
 },
 "nbformat": 4,
 "nbformat_minor": 2
}
