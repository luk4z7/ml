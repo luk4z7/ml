{
 "cells": [
  {
   "cell_type": "code",
   "execution_count": 2,
   "metadata": {},
   "outputs": [],
   "source": [
    "import tensorflow as tf"
   ]
  },
  {
   "cell_type": "markdown",
   "metadata": {},
   "source": [
    "Os dados MNIST estão disponíveis com o Keras. Primeiro, importe o **tensorflow**. Em seguida, defina algumas constantes, como o **batch_size**, **no_classes** e **epochs**. O **batch_size** pode ser selecionado com base na RAM disponível em sua máquina. Quanto maior o valor de **batch_size**, mais RAM é necessária. O impacto do **batch_size** na precisão é mínima. **no_classes** é igual a 10 aqui e será diferente para problemas diferentes. **epochs** determina quantas vezes o treinamento precisa passar pelo conjunto de dados completo. Se a perda for reduzida no final de todas as épocas, pode ser definida como um número alto. Em alguns casos, o treinamento por mais tempo pode dar uma melhor precisão. Vamos agora olhar para as etapas para criar o conjunto de dados:\n",
    "\n",
    "Defina as dimensões das imagens de entrada, assim como segue:"
   ]
  },
  {
   "cell_type": "code",
   "execution_count": 3,
   "metadata": {},
   "outputs": [],
   "source": [
    "batch_size = 128\n",
    "no_classes = 10\n",
    "epochs = 2\n",
    "image_height, image_width = 28, 28"
   ]
  },
  {
   "cell_type": "code",
   "execution_count": 4,
   "metadata": {},
   "outputs": [],
   "source": [
    "# Load the data from disk to memory using the Keras utilities:\n",
    "(x_train, y_train), (x_test, y_test) = tf.keras.datasets.mnist.load_data()"
   ]
  },
  {
   "cell_type": "code",
   "execution_count": 5,
   "metadata": {},
   "outputs": [],
   "source": [
    "# Reshape the vector into an image format, and define the input dimension for the convolution \n",
    "# using the code given:\n",
    "x_train = x_train.reshape(x_train.shape[0], image_height, image_width, 1)\n",
    "x_test = x_test.reshape(x_test.shape[0], image_height, image_width, 1)\n",
    "input_shape = (image_height, image_width, 1)"
   ]
  },
  {
   "cell_type": "code",
   "execution_count": 6,
   "metadata": {},
   "outputs": [],
   "source": [
    "# Convert the data type to float as follows\n",
    "x_train = x_train.astype('float32')\n",
    "x_test = x_test.astype('float32')"
   ]
  },
  {
   "cell_type": "code",
   "execution_count": 7,
   "metadata": {},
   "outputs": [],
   "source": [
    "# Normalize the data by subtracting the mean of the data:\n",
    "x_train /= 255\n",
    "x_test /= 255"
   ]
  },
  {
   "cell_type": "code",
   "execution_count": 8,
   "metadata": {},
   "outputs": [],
   "source": [
    "# Convert the categorical labels to one-shot encoding:\n",
    "y_train = tf.keras.utils.to_categorical(y_train, no_classes)\n",
    "y_test = tf.keras.utils.to_categorical(y_test, no_classes)"
   ]
  },
  {
   "cell_type": "markdown",
   "metadata": {},
   "source": [
    "Nesta seção, usaremos algumas camadas de convolução seguidas por camadas totalmente conectadas para treinar o conjunto de dados anterior. Construa um modelo seqüencial simples com duas camadas de convolução seguidas por camadas de agrupamento, dropout e densa. Um modelo sequencial tem o método add para empilhar camadas uma acima da outra. A primeira camada tem 64 filtros e a segunda camada tem 128 filtros. O tamanho do kernel é 3 para todos os filtros. Aplique o **pooling** máximo após as camadas de convolução. A saída das camadas de convolução é achatada conectando-se a algumas camadas totalmente conectadas com conexões de dropout.\n",
    "\n",
    "A última camada está conectada ao softmax, pois esse é um problema de classificação multiclasse. O código a seguir mostra como definir o modelo:"
   ]
  },
  {
   "cell_type": "code",
   "execution_count": 9,
   "metadata": {},
   "outputs": [
    {
     "name": "stdout",
     "output_type": "stream",
     "text": [
      "WARNING:tensorflow:From /var/root/miniconda2/lib/python2.7/site-packages/tensorflow/python/keras/_impl/keras/backend.py:3086: calling reduce_sum (from tensorflow.python.ops.math_ops) with keep_dims is deprecated and will be removed in a future version.\n",
      "Instructions for updating:\n",
      "keep_dims is deprecated, use keepdims instead\n",
      "WARNING:tensorflow:From /var/root/miniconda2/lib/python2.7/site-packages/tensorflow/python/keras/_impl/keras/backend.py:1557: calling reduce_mean (from tensorflow.python.ops.math_ops) with keep_dims is deprecated and will be removed in a future version.\n",
      "Instructions for updating:\n",
      "keep_dims is deprecated, use keepdims instead\n"
     ]
    }
   ],
   "source": [
    "def simple_cnn(input_shape):\n",
    "    model = tf.keras.models.Sequential()\n",
    "    model.add(tf.keras.layers.Conv2D(\n",
    "        filters=64,\n",
    "        kernel_size=(3, 3),\n",
    "        activation='relu',\n",
    "        input_shape=input_shape\n",
    "    ))\n",
    "    model.add(tf.keras.layers.Conv2D(\n",
    "        filters=128,\n",
    "        kernel_size=(3, 3),\n",
    "        activation='relu'\n",
    "    ))\n",
    "    model.add(tf.keras.layers.MaxPooling2D(pool_size=(2, 2)))\n",
    "    model.add(tf.keras.layers.Dropout(rate=0.3))\n",
    "    model.add(tf.keras.layers.Flatten())\n",
    "    model.add(tf.keras.layers.Dense(units=1024, activation='relu'))\n",
    "    model.add(tf.keras.layers.Dropout(rate=0.3))\n",
    "    model.add(tf.keras.layers.Dense(units=no_classes, activation='softmax'))\n",
    "    model.compile(loss=tf.keras.losses.categorical_crossentropy,\n",
    "                  optimizer=tf.keras.optimizers.Adam(),\n",
    "                  metrics=['accuracy'])\n",
    "    return model\n",
    "\n",
    "simple_cnn_model = simple_cnn(input_shape)"
   ]
  },
  {
   "cell_type": "markdown",
   "metadata": {},
   "source": [
    "O modelo é apenas definido e precisa ser compilado. Durante a perda(loss) de compilação, o otimizador e as métricas precisam ser definidos. A perda(loss) será entropia cruzada, otimizada pelo algoritmo Adam, e reportaremos a precisão como a métrica. Usando os dados carregados, treine e avalie os dados. Carregue os dados de treinamento com os parâmetros de treinamento e ajuste o modelo:"
   ]
  },
  {
   "cell_type": "code",
   "execution_count": 10,
   "metadata": {},
   "outputs": [
    {
     "name": "stdout",
     "output_type": "stream",
     "text": [
      "Epoch 1/2\n",
      "Epoch 2/2\n",
      "('Train data loss:', 0.019273758619398965)\n",
      "('Train data accuracy:', 0.99478333333333335)\n"
     ]
    }
   ],
   "source": [
    "simple_cnn_model.fit(x_train, y_train, batch_size, epochs, (x_test, y_test))\n",
    "train_loss, train_accuracy = simple_cnn_model.evaluate(\n",
    "    x_train, y_train, verbose=0)\n",
    "\n",
    "print('Train data loss:', train_loss)\n",
    "print('Train data accuracy:', train_accuracy)"
   ]
  },
  {
   "cell_type": "code",
   "execution_count": 11,
   "metadata": {},
   "outputs": [
    {
     "name": "stdout",
     "output_type": "stream",
     "text": [
      "('Test data loss:', 0.029745608770661056)\n",
      "('Test data accuracy:', 0.99139999999999995)\n"
     ]
    }
   ],
   "source": [
    "test_loss, test_accuracy = simple_cnn_model.evaluate(\n",
    "    x_test, y_test, verbose=0)\n",
    "print('Test data loss:', test_loss)\n",
    "print('Test data accuracy:', test_accuracy)"
   ]
  },
  {
   "cell_type": "markdown",
   "metadata": {},
   "source": [
    "Loss for train data: 0.019273758619398965<br/>\n",
    "Accuracy of train data: 0.99478333333333335<br/>\n",
    "Loss for test data: 0.029745608770661056<br/>\n",
    "Accuracy of test data: 0.99139999999999995<br/>"
   ]
  },
  {
   "cell_type": "code",
   "execution_count": null,
   "metadata": {},
   "outputs": [],
   "source": []
  }
 ],
 "metadata": {
  "kernelspec": {
   "display_name": "Python 3",
   "language": "python",
   "name": "python3"
  },
  "language_info": {
   "codemirror_mode": {
    "name": "ipython",
    "version": 2
   },
   "file_extension": ".py",
   "mimetype": "text/x-python",
   "name": "python",
   "nbconvert_exporter": "python",
   "pygments_lexer": "ipython2",
   "version": "2.7.14"
  }
 },
 "nbformat": 4,
 "nbformat_minor": 2
}
